{
 "cells": [
  {
   "cell_type": "markdown",
   "id": "d4090db1-7776-462c-b85f-ac163f84ca9b",
   "metadata": {},
   "source": [
    "# Data Science Tools and Ecosystem"
   ]
  },
  {
   "cell_type": "markdown",
   "id": "b88611fc-8340-4a00-ad66-002f1d5c17f1",
   "metadata": {},
   "source": [
    "This notebook is the result of The Data Science tools and Ecosystem by IBM, and therefore will be shown some examples of tools for data sience."
   ]
  },
  {
   "cell_type": "markdown",
   "id": "5f9f458e-48dc-4813-8bb9-46366cf2919a",
   "metadata": {},
   "source": [
    "**Objectives**:\n",
    "- List some popular languages for data science\n",
    "- List some IDEs used in data science\n",
    "- Show some arithmetic python operations\n",
    "- Show the use of Markdown\n"
   ]
  },
  {
   "cell_type": "markdown",
   "id": "66872565-f76e-405f-98fa-fce0ca62eef6",
   "metadata": {},
   "source": [
    "### These are some popular languages used in data science:"
   ]
  },
  {
   "cell_type": "markdown",
   "id": "bde70a51-1ed5-4c72-948a-fb58b9d46977",
   "metadata": {},
   "source": [
    "- Python\n",
    "- R\n",
    "- Julia"
   ]
  },
  {
   "cell_type": "markdown",
   "id": "30dbbe84-d524-4d2d-a181-08d49c640c5f",
   "metadata": {},
   "source": [
    "### Some commonly used libraries in data science"
   ]
  },
  {
   "cell_type": "markdown",
   "id": "4a8300d5-eac2-494c-9ce0-ae2fa21723d6",
   "metadata": {},
   "source": [
    "1. numpy\n",
    "2. pandas\n",
    "3. ggplot"
   ]
  },
  {
   "cell_type": "markdown",
   "id": "1251ac6c-4844-4923-ac91-28e29895fa0d",
   "metadata": {},
   "source": [
    "| Data Science Tools |\n",
    "|--------------------|\n",
    "| Jupyter notebooks |\n",
    "| Rstudio |\n",
    "| Visual studio code |"
   ]
  },
  {
   "cell_type": "markdown",
   "id": "7ec49728-9773-4523-88b4-fd614bdbff21",
   "metadata": {},
   "source": [
    "### Below are some simple arithmetic expressions in Python"
   ]
  },
  {
   "cell_type": "code",
   "execution_count": 2,
   "id": "d5dc8674-9168-4f19-8795-dd7d91a35fc9",
   "metadata": {},
   "outputs": [
    {
     "data": {
      "text/plain": [
       "17"
      ]
     },
     "execution_count": 2,
     "metadata": {},
     "output_type": "execute_result"
    }
   ],
   "source": [
    "# This is a simple arithmetic expression. the result will be shown under the cell\n",
    "(3*4)+5"
   ]
  },
  {
   "cell_type": "code",
   "execution_count": 3,
   "id": "9fc3552c-e74b-413c-a538-4ee1369d94df",
   "metadata": {},
   "outputs": [
    {
     "data": {
      "text/plain": [
       "3.3333333333333335"
      ]
     },
     "execution_count": 3,
     "metadata": {},
     "output_type": "execute_result"
    }
   ],
   "source": [
    "#This function will convert minutes to hours\n",
    "def minsToHours(mins):\n",
    "    return mins/60\n",
    "\n",
    "#this will convert 200 minutes to hours dividing by 60\n",
    "minsToHours(200)\n"
   ]
  },
  {
   "cell_type": "markdown",
   "id": "3ec0b2d1-4abc-49aa-8f6d-c0f2027b5598",
   "metadata": {},
   "source": [
    "## Author\n",
    "Gabriel Sánchez"
   ]
  },
  {
   "cell_type": "code",
   "execution_count": null,
   "id": "4fa084c5-8b91-4db3-8010-ecf35649ac18",
   "metadata": {},
   "outputs": [],
   "source": []
  }
 ],
 "metadata": {
  "kernelspec": {
   "display_name": "Python 3 (ipykernel)",
   "language": "python",
   "name": "python3"
  },
  "language_info": {
   "codemirror_mode": {
    "name": "ipython",
    "version": 3
   },
   "file_extension": ".py",
   "mimetype": "text/x-python",
   "name": "python",
   "nbconvert_exporter": "python",
   "pygments_lexer": "ipython3",
   "version": "3.12.8"
  }
 },
 "nbformat": 4,
 "nbformat_minor": 5
}
